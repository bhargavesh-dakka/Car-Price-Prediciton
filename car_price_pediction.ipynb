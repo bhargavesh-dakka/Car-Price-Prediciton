{
  "metadata": {
    "kernelspec": {
      "language": "python",
      "display_name": "Python 3",
      "name": "python3"
    },
    "language_info": {
      "name": "python",
      "version": "3.7.12",
      "mimetype": "text/x-python",
      "codemirror_mode": {
        "name": "ipython",
        "version": 3
      },
      "pygments_lexer": "ipython3",
      "nbconvert_exporter": "python",
      "file_extension": ".py"
    },
    "colab": {
      "provenance": []
    }
  },
  "nbformat_minor": 0,
  "nbformat": 4,
  "cells": [
    {
      "cell_type": "code",
      "source": [
        "import numpy as np\n",
        "import pandas as pd\n",
        "import matplotlib.pyplot as plt\n",
        "import seaborn as sns\n",
        "import warnings\n",
        "warnings.simplefilter(\"ignore\")"
      ],
      "metadata": {
        "_uuid": "8f2839f25d086af736a60e9eeb907d3b93b6e0e5",
        "_cell_guid": "b1076dfc-b9ad-4769-8c92-a6c4dae69d19",
        "execution": {
          "iopub.status.busy": "2023-04-05T05:48:29.843390Z",
          "iopub.execute_input": "2023-04-05T05:48:29.844766Z",
          "iopub.status.idle": "2023-04-05T05:48:29.851832Z",
          "shell.execute_reply.started": "2023-04-05T05:48:29.844701Z",
          "shell.execute_reply": "2023-04-05T05:48:29.850217Z"
        },
        "trusted": true,
        "id": "pbvylq2NsI7v"
      },
      "execution_count": 45,
      "outputs": []
    },
    {
      "cell_type": "code",
      "source": [
        "data = pd.read_csv(\"https://raw.githubusercontent.com/amankharwal/Website-data/master/CarPrice.csv\")"
      ],
      "metadata": {
        "execution": {
          "iopub.status.busy": "2023-04-05T04:00:17.158472Z",
          "iopub.execute_input": "2023-04-05T04:00:17.158901Z",
          "iopub.status.idle": "2023-04-05T04:00:17.385279Z",
          "shell.execute_reply.started": "2023-04-05T04:00:17.158866Z",
          "shell.execute_reply": "2023-04-05T04:00:17.384228Z"
        },
        "trusted": true,
        "id": "gxz3o9qmsI7z"
      },
      "execution_count": 46,
      "outputs": []
    },
    {
      "cell_type": "code",
      "source": [
        "data.head()"
      ],
      "metadata": {
        "execution": {
          "iopub.status.busy": "2023-04-05T04:00:20.105803Z",
          "iopub.execute_input": "2023-04-05T04:00:20.107872Z",
          "iopub.status.idle": "2023-04-05T04:00:20.173900Z",
          "shell.execute_reply.started": "2023-04-05T04:00:20.107802Z",
          "shell.execute_reply": "2023-04-05T04:00:20.172501Z"
        },
        "trusted": true,
        "colab": {
          "base_uri": "https://localhost:8080/",
          "height": 307
        },
        "id": "6xa4dgJ-sI7z",
        "outputId": "016628b5-eee1-4483-de10-e2b61ea392c3"
      },
      "execution_count": 47,
      "outputs": [
        {
          "output_type": "execute_result",
          "data": {
            "text/plain": [
              "   car_ID  symboling                   CarName fueltype aspiration doornumber  \\\n",
              "0       1          3        alfa-romero giulia      gas        std        two   \n",
              "1       2          3       alfa-romero stelvio      gas        std        two   \n",
              "2       3          1  alfa-romero Quadrifoglio      gas        std        two   \n",
              "3       4          2               audi 100 ls      gas        std       four   \n",
              "4       5          2                audi 100ls      gas        std       four   \n",
              "\n",
              "       carbody drivewheel enginelocation  wheelbase  ...  enginesize  \\\n",
              "0  convertible        rwd          front       88.6  ...         130   \n",
              "1  convertible        rwd          front       88.6  ...         130   \n",
              "2    hatchback        rwd          front       94.5  ...         152   \n",
              "3        sedan        fwd          front       99.8  ...         109   \n",
              "4        sedan        4wd          front       99.4  ...         136   \n",
              "\n",
              "   fuelsystem  boreratio  stroke compressionratio horsepower  peakrpm citympg  \\\n",
              "0        mpfi       3.47    2.68              9.0        111     5000      21   \n",
              "1        mpfi       3.47    2.68              9.0        111     5000      21   \n",
              "2        mpfi       2.68    3.47              9.0        154     5000      19   \n",
              "3        mpfi       3.19    3.40             10.0        102     5500      24   \n",
              "4        mpfi       3.19    3.40              8.0        115     5500      18   \n",
              "\n",
              "   highwaympg    price  \n",
              "0          27  13495.0  \n",
              "1          27  16500.0  \n",
              "2          26  16500.0  \n",
              "3          30  13950.0  \n",
              "4          22  17450.0  \n",
              "\n",
              "[5 rows x 26 columns]"
            ],
            "text/html": [
              "\n",
              "  <div id=\"df-4e85e282-e0f8-40cf-a2b2-b21cc37252b4\" class=\"colab-df-container\">\n",
              "    <div>\n",
              "<style scoped>\n",
              "    .dataframe tbody tr th:only-of-type {\n",
              "        vertical-align: middle;\n",
              "    }\n",
              "\n",
              "    .dataframe tbody tr th {\n",
              "        vertical-align: top;\n",
              "    }\n",
              "\n",
              "    .dataframe thead th {\n",
              "        text-align: right;\n",
              "    }\n",
              "</style>\n",
              "<table border=\"1\" class=\"dataframe\">\n",
              "  <thead>\n",
              "    <tr style=\"text-align: right;\">\n",
              "      <th></th>\n",
              "      <th>car_ID</th>\n",
              "      <th>symboling</th>\n",
              "      <th>CarName</th>\n",
              "      <th>fueltype</th>\n",
              "      <th>aspiration</th>\n",
              "      <th>doornumber</th>\n",
              "      <th>carbody</th>\n",
              "      <th>drivewheel</th>\n",
              "      <th>enginelocation</th>\n",
              "      <th>wheelbase</th>\n",
              "      <th>...</th>\n",
              "      <th>enginesize</th>\n",
              "      <th>fuelsystem</th>\n",
              "      <th>boreratio</th>\n",
              "      <th>stroke</th>\n",
              "      <th>compressionratio</th>\n",
              "      <th>horsepower</th>\n",
              "      <th>peakrpm</th>\n",
              "      <th>citympg</th>\n",
              "      <th>highwaympg</th>\n",
              "      <th>price</th>\n",
              "    </tr>\n",
              "  </thead>\n",
              "  <tbody>\n",
              "    <tr>\n",
              "      <th>0</th>\n",
              "      <td>1</td>\n",
              "      <td>3</td>\n",
              "      <td>alfa-romero giulia</td>\n",
              "      <td>gas</td>\n",
              "      <td>std</td>\n",
              "      <td>two</td>\n",
              "      <td>convertible</td>\n",
              "      <td>rwd</td>\n",
              "      <td>front</td>\n",
              "      <td>88.6</td>\n",
              "      <td>...</td>\n",
              "      <td>130</td>\n",
              "      <td>mpfi</td>\n",
              "      <td>3.47</td>\n",
              "      <td>2.68</td>\n",
              "      <td>9.0</td>\n",
              "      <td>111</td>\n",
              "      <td>5000</td>\n",
              "      <td>21</td>\n",
              "      <td>27</td>\n",
              "      <td>13495.0</td>\n",
              "    </tr>\n",
              "    <tr>\n",
              "      <th>1</th>\n",
              "      <td>2</td>\n",
              "      <td>3</td>\n",
              "      <td>alfa-romero stelvio</td>\n",
              "      <td>gas</td>\n",
              "      <td>std</td>\n",
              "      <td>two</td>\n",
              "      <td>convertible</td>\n",
              "      <td>rwd</td>\n",
              "      <td>front</td>\n",
              "      <td>88.6</td>\n",
              "      <td>...</td>\n",
              "      <td>130</td>\n",
              "      <td>mpfi</td>\n",
              "      <td>3.47</td>\n",
              "      <td>2.68</td>\n",
              "      <td>9.0</td>\n",
              "      <td>111</td>\n",
              "      <td>5000</td>\n",
              "      <td>21</td>\n",
              "      <td>27</td>\n",
              "      <td>16500.0</td>\n",
              "    </tr>\n",
              "    <tr>\n",
              "      <th>2</th>\n",
              "      <td>3</td>\n",
              "      <td>1</td>\n",
              "      <td>alfa-romero Quadrifoglio</td>\n",
              "      <td>gas</td>\n",
              "      <td>std</td>\n",
              "      <td>two</td>\n",
              "      <td>hatchback</td>\n",
              "      <td>rwd</td>\n",
              "      <td>front</td>\n",
              "      <td>94.5</td>\n",
              "      <td>...</td>\n",
              "      <td>152</td>\n",
              "      <td>mpfi</td>\n",
              "      <td>2.68</td>\n",
              "      <td>3.47</td>\n",
              "      <td>9.0</td>\n",
              "      <td>154</td>\n",
              "      <td>5000</td>\n",
              "      <td>19</td>\n",
              "      <td>26</td>\n",
              "      <td>16500.0</td>\n",
              "    </tr>\n",
              "    <tr>\n",
              "      <th>3</th>\n",
              "      <td>4</td>\n",
              "      <td>2</td>\n",
              "      <td>audi 100 ls</td>\n",
              "      <td>gas</td>\n",
              "      <td>std</td>\n",
              "      <td>four</td>\n",
              "      <td>sedan</td>\n",
              "      <td>fwd</td>\n",
              "      <td>front</td>\n",
              "      <td>99.8</td>\n",
              "      <td>...</td>\n",
              "      <td>109</td>\n",
              "      <td>mpfi</td>\n",
              "      <td>3.19</td>\n",
              "      <td>3.40</td>\n",
              "      <td>10.0</td>\n",
              "      <td>102</td>\n",
              "      <td>5500</td>\n",
              "      <td>24</td>\n",
              "      <td>30</td>\n",
              "      <td>13950.0</td>\n",
              "    </tr>\n",
              "    <tr>\n",
              "      <th>4</th>\n",
              "      <td>5</td>\n",
              "      <td>2</td>\n",
              "      <td>audi 100ls</td>\n",
              "      <td>gas</td>\n",
              "      <td>std</td>\n",
              "      <td>four</td>\n",
              "      <td>sedan</td>\n",
              "      <td>4wd</td>\n",
              "      <td>front</td>\n",
              "      <td>99.4</td>\n",
              "      <td>...</td>\n",
              "      <td>136</td>\n",
              "      <td>mpfi</td>\n",
              "      <td>3.19</td>\n",
              "      <td>3.40</td>\n",
              "      <td>8.0</td>\n",
              "      <td>115</td>\n",
              "      <td>5500</td>\n",
              "      <td>18</td>\n",
              "      <td>22</td>\n",
              "      <td>17450.0</td>\n",
              "    </tr>\n",
              "  </tbody>\n",
              "</table>\n",
              "<p>5 rows × 26 columns</p>\n",
              "</div>\n",
              "    <div class=\"colab-df-buttons\">\n",
              "\n",
              "  <div class=\"colab-df-container\">\n",
              "    <button class=\"colab-df-convert\" onclick=\"convertToInteractive('df-4e85e282-e0f8-40cf-a2b2-b21cc37252b4')\"\n",
              "            title=\"Convert this dataframe to an interactive table.\"\n",
              "            style=\"display:none;\">\n",
              "\n",
              "  <svg xmlns=\"http://www.w3.org/2000/svg\" height=\"24px\" viewBox=\"0 -960 960 960\">\n",
              "    <path d=\"M120-120v-720h720v720H120Zm60-500h600v-160H180v160Zm220 220h160v-160H400v160Zm0 220h160v-160H400v160ZM180-400h160v-160H180v160Zm440 0h160v-160H620v160ZM180-180h160v-160H180v160Zm440 0h160v-160H620v160Z\"/>\n",
              "  </svg>\n",
              "    </button>\n",
              "\n",
              "  <style>\n",
              "    .colab-df-container {\n",
              "      display:flex;\n",
              "      gap: 12px;\n",
              "    }\n",
              "\n",
              "    .colab-df-convert {\n",
              "      background-color: #E8F0FE;\n",
              "      border: none;\n",
              "      border-radius: 50%;\n",
              "      cursor: pointer;\n",
              "      display: none;\n",
              "      fill: #1967D2;\n",
              "      height: 32px;\n",
              "      padding: 0 0 0 0;\n",
              "      width: 32px;\n",
              "    }\n",
              "\n",
              "    .colab-df-convert:hover {\n",
              "      background-color: #E2EBFA;\n",
              "      box-shadow: 0px 1px 2px rgba(60, 64, 67, 0.3), 0px 1px 3px 1px rgba(60, 64, 67, 0.15);\n",
              "      fill: #174EA6;\n",
              "    }\n",
              "\n",
              "    .colab-df-buttons div {\n",
              "      margin-bottom: 4px;\n",
              "    }\n",
              "\n",
              "    [theme=dark] .colab-df-convert {\n",
              "      background-color: #3B4455;\n",
              "      fill: #D2E3FC;\n",
              "    }\n",
              "\n",
              "    [theme=dark] .colab-df-convert:hover {\n",
              "      background-color: #434B5C;\n",
              "      box-shadow: 0px 1px 3px 1px rgba(0, 0, 0, 0.15);\n",
              "      filter: drop-shadow(0px 1px 2px rgba(0, 0, 0, 0.3));\n",
              "      fill: #FFFFFF;\n",
              "    }\n",
              "  </style>\n",
              "\n",
              "    <script>\n",
              "      const buttonEl =\n",
              "        document.querySelector('#df-4e85e282-e0f8-40cf-a2b2-b21cc37252b4 button.colab-df-convert');\n",
              "      buttonEl.style.display =\n",
              "        google.colab.kernel.accessAllowed ? 'block' : 'none';\n",
              "\n",
              "      async function convertToInteractive(key) {\n",
              "        const element = document.querySelector('#df-4e85e282-e0f8-40cf-a2b2-b21cc37252b4');\n",
              "        const dataTable =\n",
              "          await google.colab.kernel.invokeFunction('convertToInteractive',\n",
              "                                                    [key], {});\n",
              "        if (!dataTable) return;\n",
              "\n",
              "        const docLinkHtml = 'Like what you see? Visit the ' +\n",
              "          '<a target=\"_blank\" href=https://colab.research.google.com/notebooks/data_table.ipynb>data table notebook</a>'\n",
              "          + ' to learn more about interactive tables.';\n",
              "        element.innerHTML = '';\n",
              "        dataTable['output_type'] = 'display_data';\n",
              "        await google.colab.output.renderOutput(dataTable, element);\n",
              "        const docLink = document.createElement('div');\n",
              "        docLink.innerHTML = docLinkHtml;\n",
              "        element.appendChild(docLink);\n",
              "      }\n",
              "    </script>\n",
              "  </div>\n",
              "\n",
              "\n",
              "<div id=\"df-8edecd58-c1e0-4c0e-8115-37b50cbf5cf8\">\n",
              "  <button class=\"colab-df-quickchart\" onclick=\"quickchart('df-8edecd58-c1e0-4c0e-8115-37b50cbf5cf8')\"\n",
              "            title=\"Suggest charts\"\n",
              "            style=\"display:none;\">\n",
              "\n",
              "<svg xmlns=\"http://www.w3.org/2000/svg\" height=\"24px\"viewBox=\"0 0 24 24\"\n",
              "     width=\"24px\">\n",
              "    <g>\n",
              "        <path d=\"M19 3H5c-1.1 0-2 .9-2 2v14c0 1.1.9 2 2 2h14c1.1 0 2-.9 2-2V5c0-1.1-.9-2-2-2zM9 17H7v-7h2v7zm4 0h-2V7h2v10zm4 0h-2v-4h2v4z\"/>\n",
              "    </g>\n",
              "</svg>\n",
              "  </button>\n",
              "\n",
              "<style>\n",
              "  .colab-df-quickchart {\n",
              "      --bg-color: #E8F0FE;\n",
              "      --fill-color: #1967D2;\n",
              "      --hover-bg-color: #E2EBFA;\n",
              "      --hover-fill-color: #174EA6;\n",
              "      --disabled-fill-color: #AAA;\n",
              "      --disabled-bg-color: #DDD;\n",
              "  }\n",
              "\n",
              "  [theme=dark] .colab-df-quickchart {\n",
              "      --bg-color: #3B4455;\n",
              "      --fill-color: #D2E3FC;\n",
              "      --hover-bg-color: #434B5C;\n",
              "      --hover-fill-color: #FFFFFF;\n",
              "      --disabled-bg-color: #3B4455;\n",
              "      --disabled-fill-color: #666;\n",
              "  }\n",
              "\n",
              "  .colab-df-quickchart {\n",
              "    background-color: var(--bg-color);\n",
              "    border: none;\n",
              "    border-radius: 50%;\n",
              "    cursor: pointer;\n",
              "    display: none;\n",
              "    fill: var(--fill-color);\n",
              "    height: 32px;\n",
              "    padding: 0;\n",
              "    width: 32px;\n",
              "  }\n",
              "\n",
              "  .colab-df-quickchart:hover {\n",
              "    background-color: var(--hover-bg-color);\n",
              "    box-shadow: 0 1px 2px rgba(60, 64, 67, 0.3), 0 1px 3px 1px rgba(60, 64, 67, 0.15);\n",
              "    fill: var(--button-hover-fill-color);\n",
              "  }\n",
              "\n",
              "  .colab-df-quickchart-complete:disabled,\n",
              "  .colab-df-quickchart-complete:disabled:hover {\n",
              "    background-color: var(--disabled-bg-color);\n",
              "    fill: var(--disabled-fill-color);\n",
              "    box-shadow: none;\n",
              "  }\n",
              "\n",
              "  .colab-df-spinner {\n",
              "    border: 2px solid var(--fill-color);\n",
              "    border-color: transparent;\n",
              "    border-bottom-color: var(--fill-color);\n",
              "    animation:\n",
              "      spin 1s steps(1) infinite;\n",
              "  }\n",
              "\n",
              "  @keyframes spin {\n",
              "    0% {\n",
              "      border-color: transparent;\n",
              "      border-bottom-color: var(--fill-color);\n",
              "      border-left-color: var(--fill-color);\n",
              "    }\n",
              "    20% {\n",
              "      border-color: transparent;\n",
              "      border-left-color: var(--fill-color);\n",
              "      border-top-color: var(--fill-color);\n",
              "    }\n",
              "    30% {\n",
              "      border-color: transparent;\n",
              "      border-left-color: var(--fill-color);\n",
              "      border-top-color: var(--fill-color);\n",
              "      border-right-color: var(--fill-color);\n",
              "    }\n",
              "    40% {\n",
              "      border-color: transparent;\n",
              "      border-right-color: var(--fill-color);\n",
              "      border-top-color: var(--fill-color);\n",
              "    }\n",
              "    60% {\n",
              "      border-color: transparent;\n",
              "      border-right-color: var(--fill-color);\n",
              "    }\n",
              "    80% {\n",
              "      border-color: transparent;\n",
              "      border-right-color: var(--fill-color);\n",
              "      border-bottom-color: var(--fill-color);\n",
              "    }\n",
              "    90% {\n",
              "      border-color: transparent;\n",
              "      border-bottom-color: var(--fill-color);\n",
              "    }\n",
              "  }\n",
              "</style>\n",
              "\n",
              "  <script>\n",
              "    async function quickchart(key) {\n",
              "      const quickchartButtonEl =\n",
              "        document.querySelector('#' + key + ' button');\n",
              "      quickchartButtonEl.disabled = true;  // To prevent multiple clicks.\n",
              "      quickchartButtonEl.classList.add('colab-df-spinner');\n",
              "      try {\n",
              "        const charts = await google.colab.kernel.invokeFunction(\n",
              "            'suggestCharts', [key], {});\n",
              "      } catch (error) {\n",
              "        console.error('Error during call to suggestCharts:', error);\n",
              "      }\n",
              "      quickchartButtonEl.classList.remove('colab-df-spinner');\n",
              "      quickchartButtonEl.classList.add('colab-df-quickchart-complete');\n",
              "    }\n",
              "    (() => {\n",
              "      let quickchartButtonEl =\n",
              "        document.querySelector('#df-8edecd58-c1e0-4c0e-8115-37b50cbf5cf8 button');\n",
              "      quickchartButtonEl.style.display =\n",
              "        google.colab.kernel.accessAllowed ? 'block' : 'none';\n",
              "    })();\n",
              "  </script>\n",
              "</div>\n",
              "\n",
              "    </div>\n",
              "  </div>\n"
            ],
            "application/vnd.google.colaboratory.intrinsic+json": {
              "type": "dataframe",
              "variable_name": "data"
            }
          },
          "metadata": {},
          "execution_count": 47
        }
      ]
    },
    {
      "cell_type": "code",
      "source": [
        "data.info()"
      ],
      "metadata": {
        "execution": {
          "iopub.status.busy": "2023-04-05T04:00:20.987921Z",
          "iopub.execute_input": "2023-04-05T04:00:20.988386Z",
          "iopub.status.idle": "2023-04-05T04:00:21.022108Z",
          "shell.execute_reply.started": "2023-04-05T04:00:20.988346Z",
          "shell.execute_reply": "2023-04-05T04:00:21.020705Z"
        },
        "trusted": true,
        "colab": {
          "base_uri": "https://localhost:8080/"
        },
        "id": "fupvdw0asI70",
        "outputId": "8061b1b0-b221-4a52-9a27-6e7662625e53"
      },
      "execution_count": 48,
      "outputs": [
        {
          "output_type": "stream",
          "name": "stdout",
          "text": [
            "<class 'pandas.core.frame.DataFrame'>\n",
            "RangeIndex: 205 entries, 0 to 204\n",
            "Data columns (total 26 columns):\n",
            " #   Column            Non-Null Count  Dtype  \n",
            "---  ------            --------------  -----  \n",
            " 0   car_ID            205 non-null    int64  \n",
            " 1   symboling         205 non-null    int64  \n",
            " 2   CarName           205 non-null    object \n",
            " 3   fueltype          205 non-null    object \n",
            " 4   aspiration        205 non-null    object \n",
            " 5   doornumber        205 non-null    object \n",
            " 6   carbody           205 non-null    object \n",
            " 7   drivewheel        205 non-null    object \n",
            " 8   enginelocation    205 non-null    object \n",
            " 9   wheelbase         205 non-null    float64\n",
            " 10  carlength         205 non-null    float64\n",
            " 11  carwidth          205 non-null    float64\n",
            " 12  carheight         205 non-null    float64\n",
            " 13  curbweight        205 non-null    int64  \n",
            " 14  enginetype        205 non-null    object \n",
            " 15  cylindernumber    205 non-null    object \n",
            " 16  enginesize        205 non-null    int64  \n",
            " 17  fuelsystem        205 non-null    object \n",
            " 18  boreratio         205 non-null    float64\n",
            " 19  stroke            205 non-null    float64\n",
            " 20  compressionratio  205 non-null    float64\n",
            " 21  horsepower        205 non-null    int64  \n",
            " 22  peakrpm           205 non-null    int64  \n",
            " 23  citympg           205 non-null    int64  \n",
            " 24  highwaympg        205 non-null    int64  \n",
            " 25  price             205 non-null    float64\n",
            "dtypes: float64(8), int64(8), object(10)\n",
            "memory usage: 41.8+ KB\n"
          ]
        }
      ]
    },
    {
      "cell_type": "code",
      "source": [
        "desc_columns = [\"car_ID\", \"CarName\", ]"
      ],
      "metadata": {
        "execution": {
          "iopub.status.busy": "2023-04-05T04:00:21.847261Z",
          "iopub.execute_input": "2023-04-05T04:00:21.848198Z",
          "iopub.status.idle": "2023-04-05T04:00:21.854030Z",
          "shell.execute_reply.started": "2023-04-05T04:00:21.848145Z",
          "shell.execute_reply": "2023-04-05T04:00:21.852540Z"
        },
        "trusted": true,
        "id": "Z5BMQApEsI71"
      },
      "execution_count": 49,
      "outputs": []
    },
    {
      "cell_type": "code",
      "source": [
        "data.drop(desc_columns, axis=1, inplace = True)"
      ],
      "metadata": {
        "execution": {
          "iopub.status.busy": "2023-04-05T04:00:22.862178Z",
          "iopub.execute_input": "2023-04-05T04:00:22.862932Z",
          "iopub.status.idle": "2023-04-05T04:00:22.868412Z",
          "shell.execute_reply.started": "2023-04-05T04:00:22.862886Z",
          "shell.execute_reply": "2023-04-05T04:00:22.867505Z"
        },
        "trusted": true,
        "id": "q1xeGR3osI71"
      },
      "execution_count": 50,
      "outputs": []
    },
    {
      "cell_type": "code",
      "source": [
        "data.info()"
      ],
      "metadata": {
        "execution": {
          "iopub.status.busy": "2023-04-05T04:00:24.171585Z",
          "iopub.execute_input": "2023-04-05T04:00:24.172051Z",
          "iopub.status.idle": "2023-04-05T04:00:24.188897Z",
          "shell.execute_reply.started": "2023-04-05T04:00:24.172010Z",
          "shell.execute_reply": "2023-04-05T04:00:24.187004Z"
        },
        "trusted": true,
        "colab": {
          "base_uri": "https://localhost:8080/"
        },
        "id": "HrWGrDJVsI72",
        "outputId": "8e1551dc-5c05-4832-dd96-51092b6fc6fd"
      },
      "execution_count": 51,
      "outputs": [
        {
          "output_type": "stream",
          "name": "stdout",
          "text": [
            "<class 'pandas.core.frame.DataFrame'>\n",
            "RangeIndex: 205 entries, 0 to 204\n",
            "Data columns (total 24 columns):\n",
            " #   Column            Non-Null Count  Dtype  \n",
            "---  ------            --------------  -----  \n",
            " 0   symboling         205 non-null    int64  \n",
            " 1   fueltype          205 non-null    object \n",
            " 2   aspiration        205 non-null    object \n",
            " 3   doornumber        205 non-null    object \n",
            " 4   carbody           205 non-null    object \n",
            " 5   drivewheel        205 non-null    object \n",
            " 6   enginelocation    205 non-null    object \n",
            " 7   wheelbase         205 non-null    float64\n",
            " 8   carlength         205 non-null    float64\n",
            " 9   carwidth          205 non-null    float64\n",
            " 10  carheight         205 non-null    float64\n",
            " 11  curbweight        205 non-null    int64  \n",
            " 12  enginetype        205 non-null    object \n",
            " 13  cylindernumber    205 non-null    object \n",
            " 14  enginesize        205 non-null    int64  \n",
            " 15  fuelsystem        205 non-null    object \n",
            " 16  boreratio         205 non-null    float64\n",
            " 17  stroke            205 non-null    float64\n",
            " 18  compressionratio  205 non-null    float64\n",
            " 19  horsepower        205 non-null    int64  \n",
            " 20  peakrpm           205 non-null    int64  \n",
            " 21  citympg           205 non-null    int64  \n",
            " 22  highwaympg        205 non-null    int64  \n",
            " 23  price             205 non-null    float64\n",
            "dtypes: float64(8), int64(7), object(9)\n",
            "memory usage: 38.6+ KB\n"
          ]
        }
      ]
    },
    {
      "cell_type": "code",
      "source": [
        "objects = [column_name for column_name in data.columns if data[column_name].dtype == \"object\"]\n"
      ],
      "metadata": {
        "id": "FULMBvzUsplp"
      },
      "execution_count": 52,
      "outputs": []
    },
    {
      "cell_type": "code",
      "source": [
        "data[objects].info()"
      ],
      "metadata": {
        "colab": {
          "base_uri": "https://localhost:8080/"
        },
        "id": "Z65erlYVtDPZ",
        "outputId": "b2e2ba58-4379-4604-e4f5-f65a8754e8f9"
      },
      "execution_count": 53,
      "outputs": [
        {
          "output_type": "stream",
          "name": "stdout",
          "text": [
            "<class 'pandas.core.frame.DataFrame'>\n",
            "RangeIndex: 205 entries, 0 to 204\n",
            "Data columns (total 9 columns):\n",
            " #   Column          Non-Null Count  Dtype \n",
            "---  ------          --------------  ----- \n",
            " 0   fueltype        205 non-null    object\n",
            " 1   aspiration      205 non-null    object\n",
            " 2   doornumber      205 non-null    object\n",
            " 3   carbody         205 non-null    object\n",
            " 4   drivewheel      205 non-null    object\n",
            " 5   enginelocation  205 non-null    object\n",
            " 6   enginetype      205 non-null    object\n",
            " 7   cylindernumber  205 non-null    object\n",
            " 8   fuelsystem      205 non-null    object\n",
            "dtypes: object(9)\n",
            "memory usage: 14.5+ KB\n"
          ]
        }
      ]
    },
    {
      "cell_type": "code",
      "source": [
        "for columns in data[objects].columns:\n",
        "  print(columns,\"--------\",data[columns].unique(),\"--------\", data[columns].nunique())\n",
        "  print(\"_\"*10)"
      ],
      "metadata": {
        "colab": {
          "base_uri": "https://localhost:8080/"
        },
        "id": "7qp8aMl9tQN5",
        "outputId": "9676d3de-ba15-4c95-cddc-91fba7033fea"
      },
      "execution_count": 54,
      "outputs": [
        {
          "output_type": "stream",
          "name": "stdout",
          "text": [
            "fueltype -------- ['gas' 'diesel'] -------- 2\n",
            "__________\n",
            "aspiration -------- ['std' 'turbo'] -------- 2\n",
            "__________\n",
            "doornumber -------- ['two' 'four'] -------- 2\n",
            "__________\n",
            "carbody -------- ['convertible' 'hatchback' 'sedan' 'wagon' 'hardtop'] -------- 5\n",
            "__________\n",
            "drivewheel -------- ['rwd' 'fwd' '4wd'] -------- 3\n",
            "__________\n",
            "enginelocation -------- ['front' 'rear'] -------- 2\n",
            "__________\n",
            "enginetype -------- ['dohc' 'ohcv' 'ohc' 'l' 'rotor' 'ohcf' 'dohcv'] -------- 7\n",
            "__________\n",
            "cylindernumber -------- ['four' 'six' 'five' 'three' 'twelve' 'two' 'eight'] -------- 7\n",
            "__________\n",
            "fuelsystem -------- ['mpfi' '2bbl' 'mfi' '1bbl' 'spfi' '4bbl' 'idi' 'spdi'] -------- 8\n",
            "__________\n"
          ]
        }
      ]
    },
    {
      "cell_type": "code",
      "source": [
        "data[\"doornumber\"] = data[\"doornumber\"].map({\"two\":2,\"four\":4}).astype(\"int64\")"
      ],
      "metadata": {
        "id": "NZlJo9z_tzTV"
      },
      "execution_count": 55,
      "outputs": []
    },
    {
      "cell_type": "code",
      "source": [
        "data[\"cylindernumber\"] = data[\"cylindernumber\"].map({\"two\":2,\"three\":3,\"four\":4,\"five\":5,\"six\":6,\"eight\":8,\"twelve\":12}).astype(\"int64\")"
      ],
      "metadata": {
        "id": "V5oG1FgKuD5-"
      },
      "execution_count": 56,
      "outputs": []
    },
    {
      "cell_type": "code",
      "source": [
        "objects = [column_name for column_name in data.columns if data[column_name].dtype == \"object\"]\n",
        "for columns in data[objects].columns:\n",
        "  print(columns,\"--------\",data[columns].unique(),\"--------\", data[columns].nunique())\n",
        "  print(\"_\"*10)"
      ],
      "metadata": {
        "colab": {
          "base_uri": "https://localhost:8080/"
        },
        "id": "BZBd8_CYuQ8G",
        "outputId": "ff4b8143-84c8-4f23-f006-fcd358b2f6d8"
      },
      "execution_count": 57,
      "outputs": [
        {
          "output_type": "stream",
          "name": "stdout",
          "text": [
            "fueltype -------- ['gas' 'diesel'] -------- 2\n",
            "__________\n",
            "aspiration -------- ['std' 'turbo'] -------- 2\n",
            "__________\n",
            "carbody -------- ['convertible' 'hatchback' 'sedan' 'wagon' 'hardtop'] -------- 5\n",
            "__________\n",
            "drivewheel -------- ['rwd' 'fwd' '4wd'] -------- 3\n",
            "__________\n",
            "enginelocation -------- ['front' 'rear'] -------- 2\n",
            "__________\n",
            "enginetype -------- ['dohc' 'ohcv' 'ohc' 'l' 'rotor' 'ohcf' 'dohcv'] -------- 7\n",
            "__________\n",
            "fuelsystem -------- ['mpfi' '2bbl' 'mfi' '1bbl' 'spfi' '4bbl' 'idi' 'spdi'] -------- 8\n",
            "__________\n"
          ]
        }
      ]
    },
    {
      "cell_type": "code",
      "source": [
        "sns.barplot(x = \"fueltype\", y= \"price\", data = data, errorbar=(\"ci\",0))"
      ],
      "metadata": {
        "execution": {
          "iopub.status.busy": "2023-04-05T04:00:28.443357Z",
          "iopub.execute_input": "2023-04-05T04:00:28.443781Z",
          "iopub.status.idle": "2023-04-05T04:00:28.743229Z",
          "shell.execute_reply.started": "2023-04-05T04:00:28.443747Z",
          "shell.execute_reply": "2023-04-05T04:00:28.741875Z"
        },
        "trusted": true,
        "colab": {
          "base_uri": "https://localhost:8080/",
          "height": 467
        },
        "id": "Myhn6IGMsI72",
        "outputId": "a83abf47-c65a-483c-c4cc-669bb9a1c8d5"
      },
      "execution_count": 58,
      "outputs": [
        {
          "output_type": "execute_result",
          "data": {
            "text/plain": [
              "<Axes: xlabel='fueltype', ylabel='price'>"
            ]
          },
          "metadata": {},
          "execution_count": 58
        },
        {
          "output_type": "display_data",
          "data": {
            "text/plain": [
              "<Figure size 640x480 with 1 Axes>"
            ],
            "image/png": "[encoded data removed]"
          },
          "metadata": {}
        }
      ]
    },
    {
      "cell_type": "markdown",
      "source": [
        "From the above chart we can clearly see that Diesel has higher price than Gas cars"
      ],
      "metadata": {
        "id": "VVO-P2YmsI72"
      }
    },
    {
      "cell_type": "code",
      "source": [
        "sns.barplot(x = \"doornumber\", y= \"price\", data = data, errorbar=(\"ci\",0))"
      ],
      "metadata": {
        "execution": {
          "iopub.status.busy": "2023-04-05T04:00:28.886591Z",
          "iopub.execute_input": "2023-04-05T04:00:28.887024Z",
          "iopub.status.idle": "2023-04-05T04:00:29.151809Z",
          "shell.execute_reply.started": "2023-04-05T04:00:28.886988Z",
          "shell.execute_reply": "2023-04-05T04:00:29.150600Z"
        },
        "trusted": true,
        "colab": {
          "base_uri": "https://localhost:8080/",
          "height": 468
        },
        "id": "gKgcJX72sI74",
        "outputId": "6bea844e-8166-4a70-c8ac-916958a7dfbb"
      },
      "execution_count": 59,
      "outputs": [
        {
          "output_type": "execute_result",
          "data": {
            "text/plain": [
              "<Axes: xlabel='doornumber', ylabel='price'>"
            ]
          },
          "metadata": {},
          "execution_count": 59
        },
        {
          "output_type": "display_data",
          "data": {
            "text/plain": [
              "<Figure size 640x480 with 1 Axes>"
            ],
            "image/png": "[encoded data removed]"
          },
          "metadata": {}
        }
      ]
    },
    {
      "cell_type": "markdown",
      "source": [
        "From the above chart there is no much difference in the price with respect to Door Number"
      ],
      "metadata": {
        "execution": {
          "iopub.status.busy": "2023-04-05T02:40:56.516472Z",
          "iopub.execute_input": "2023-04-05T02:40:56.516910Z",
          "iopub.status.idle": "2023-04-05T02:40:56.524315Z",
          "shell.execute_reply.started": "2023-04-05T02:40:56.516875Z",
          "shell.execute_reply": "2023-04-05T02:40:56.522765Z"
        },
        "id": "_0OfBuRJsI74"
      }
    },
    {
      "cell_type": "code",
      "source": [
        "sns.barplot(x = \"enginetype\", y= \"price\", data = data, errorbar=(\"ci\",0))"
      ],
      "metadata": {
        "execution": {
          "iopub.status.busy": "2023-04-05T04:00:29.235058Z",
          "iopub.execute_input": "2023-04-05T04:00:29.235572Z",
          "iopub.status.idle": "2023-04-05T04:00:29.627612Z",
          "shell.execute_reply.started": "2023-04-05T04:00:29.235529Z",
          "shell.execute_reply": "2023-04-05T04:00:29.626245Z"
        },
        "trusted": true,
        "colab": {
          "base_uri": "https://localhost:8080/",
          "height": 467
        },
        "id": "MeC6TCimsI74",
        "outputId": "bc2aacc2-7187-4cc7-b706-711274b41fea"
      },
      "execution_count": 60,
      "outputs": [
        {
          "output_type": "execute_result",
          "data": {
            "text/plain": [
              "<Axes: xlabel='enginetype', ylabel='price'>"
            ]
          },
          "metadata": {},
          "execution_count": 60
        },
        {
          "output_type": "display_data",
          "data": {
            "text/plain": [
              "<Figure size 640x480 with 1 Axes>"
            ],
            "image/png": "[encoded data removed]"
          },
          "metadata": {}
        }
      ]
    },
    {
      "cell_type": "code",
      "source": [
        "sns.barplot(x = data[\"cylindernumber\"], y = sorted(data[\"price\"]), errorbar=(\"ci\",0))"
      ],
      "metadata": {
        "execution": {
          "iopub.status.busy": "2023-04-05T04:00:30.542243Z",
          "iopub.execute_input": "2023-04-05T04:00:30.543311Z",
          "iopub.status.idle": "2023-04-05T04:00:30.912288Z",
          "shell.execute_reply.started": "2023-04-05T04:00:30.543261Z",
          "shell.execute_reply": "2023-04-05T04:00:30.910897Z"
        },
        "trusted": true,
        "colab": {
          "base_uri": "https://localhost:8080/",
          "height": 467
        },
        "id": "_b8b-TMQsI74",
        "outputId": "10d49a24-3582-4af5-dad1-30c9b120db5a"
      },
      "execution_count": 61,
      "outputs": [
        {
          "output_type": "execute_result",
          "data": {
            "text/plain": [
              "<Axes: xlabel='cylindernumber'>"
            ]
          },
          "metadata": {},
          "execution_count": 61
        },
        {
          "output_type": "display_data",
          "data": {
            "text/plain": [
              "<Figure size 640x480 with 1 Axes>"
            ],
            "image/png": "[encoded data removed]"
          },
          "metadata": {}
        }
      ]
    },
    {
      "cell_type": "code",
      "source": [
        "objects"
      ],
      "metadata": {
        "execution": {
          "iopub.status.busy": "2023-04-05T04:04:56.848594Z",
          "iopub.execute_input": "2023-04-05T04:04:56.849750Z",
          "iopub.status.idle": "2023-04-05T04:04:56.865986Z",
          "shell.execute_reply.started": "2023-04-05T04:04:56.849700Z",
          "shell.execute_reply": "2023-04-05T04:04:56.864517Z"
        },
        "trusted": true,
        "colab": {
          "base_uri": "https://localhost:8080/"
        },
        "id": "Ljxg4JI0sI75",
        "outputId": "5ffea717-1d5f-4647-d621-110ff1cb9a76"
      },
      "execution_count": 62,
      "outputs": [
        {
          "output_type": "execute_result",
          "data": {
            "text/plain": [
              "['fueltype',\n",
              " 'aspiration',\n",
              " 'carbody',\n",
              " 'drivewheel',\n",
              " 'enginelocation',\n",
              " 'enginetype',\n",
              " 'fuelsystem']"
            ]
          },
          "metadata": {},
          "execution_count": 62
        }
      ]
    },
    {
      "cell_type": "code",
      "source": [
        "from sklearn.preprocessing import OneHotEncoder\n",
        "oe = OneHotEncoder()\n",
        "oe.fit(data[objects])\n",
        "data[oe.get_feature_names_out()] = oe.transform(data[objects]).toarray().astype(int)"
      ],
      "metadata": {
        "id": "4iLtU1OAvNek"
      },
      "execution_count": 63,
      "outputs": []
    },
    {
      "cell_type": "code",
      "source": [
        "data.drop(objects, axis=1, inplace = True)"
      ],
      "metadata": {
        "id": "O2B5u_V1vog1"
      },
      "execution_count": 64,
      "outputs": []
    },
    {
      "cell_type": "code",
      "source": [
        "data.info()"
      ],
      "metadata": {
        "colab": {
          "base_uri": "https://localhost:8080/"
        },
        "id": "usr2BDCgvdxU",
        "outputId": "fd3891e4-2f16-4e35-c18f-167857f2d3b6"
      },
      "execution_count": 65,
      "outputs": [
        {
          "output_type": "stream",
          "name": "stdout",
          "text": [
            "<class 'pandas.core.frame.DataFrame'>\n",
            "RangeIndex: 205 entries, 0 to 204\n",
            "Data columns (total 46 columns):\n",
            " #   Column                Non-Null Count  Dtype  \n",
            "---  ------                --------------  -----  \n",
            " 0   symboling             205 non-null    int64  \n",
            " 1   doornumber            205 non-null    int64  \n",
            " 2   wheelbase             205 non-null    float64\n",
            " 3   carlength             205 non-null    float64\n",
            " 4   carwidth              205 non-null    float64\n",
            " 5   carheight             205 non-null    float64\n",
            " 6   curbweight            205 non-null    int64  \n",
            " 7   cylindernumber        205 non-null    int64  \n",
            " 8   enginesize            205 non-null    int64  \n",
            " 9   boreratio             205 non-null    float64\n",
            " 10  stroke                205 non-null    float64\n",
            " 11  compressionratio      205 non-null    float64\n",
            " 12  horsepower            205 non-null    int64  \n",
            " 13  peakrpm               205 non-null    int64  \n",
            " 14  citympg               205 non-null    int64  \n",
            " 15  highwaympg            205 non-null    int64  \n",
            " 16  price                 205 non-null    float64\n",
            " 17  fueltype_diesel       205 non-null    int64  \n",
            " 18  fueltype_gas          205 non-null    int64  \n",
            " 19  aspiration_std        205 non-null    int64  \n",
            " 20  aspiration_turbo      205 non-null    int64  \n",
            " 21  carbody_convertible   205 non-null    int64  \n",
            " 22  carbody_hardtop       205 non-null    int64  \n",
            " 23  carbody_hatchback     205 non-null    int64  \n",
            " 24  carbody_sedan         205 non-null    int64  \n",
            " 25  carbody_wagon         205 non-null    int64  \n",
            " 26  drivewheel_4wd        205 non-null    int64  \n",
            " 27  drivewheel_fwd        205 non-null    int64  \n",
            " 28  drivewheel_rwd        205 non-null    int64  \n",
            " 29  enginelocation_front  205 non-null    int64  \n",
            " 30  enginelocation_rear   205 non-null    int64  \n",
            " 31  enginetype_dohc       205 non-null    int64  \n",
            " 32  enginetype_dohcv      205 non-null    int64  \n",
            " 33  enginetype_l          205 non-null    int64  \n",
            " 34  enginetype_ohc        205 non-null    int64  \n",
            " 35  enginetype_ohcf       205 non-null    int64  \n",
            " 36  enginetype_ohcv       205 non-null    int64  \n",
            " 37  enginetype_rotor      205 non-null    int64  \n",
            " 38  fuelsystem_1bbl       205 non-null    int64  \n",
            " 39  fuelsystem_2bbl       205 non-null    int64  \n",
            " 40  fuelsystem_4bbl       205 non-null    int64  \n",
            " 41  fuelsystem_idi        205 non-null    int64  \n",
            " 42  fuelsystem_mfi        205 non-null    int64  \n",
            " 43  fuelsystem_mpfi       205 non-null    int64  \n",
            " 44  fuelsystem_spdi       205 non-null    int64  \n",
            " 45  fuelsystem_spfi       205 non-null    int64  \n",
            "dtypes: float64(8), int64(38)\n",
            "memory usage: 73.8 KB\n"
          ]
        }
      ]
    },
    {
      "cell_type": "code",
      "source": [
        "data.head()"
      ],
      "metadata": {
        "colab": {
          "base_uri": "https://localhost:8080/",
          "height": 255
        },
        "id": "SJEVw9ntv1AR",
        "outputId": "d48a93de-7b5b-4baf-fb02-1b92fa9ad7b7"
      },
      "execution_count": 66,
      "outputs": [
        {
          "output_type": "execute_result",
          "data": {
            "text/plain": [
              "   symboling  doornumber  wheelbase  carlength  carwidth  carheight  \\\n",
              "0          3           2       88.6      168.8      64.1       48.8   \n",
              "1          3           2       88.6      168.8      64.1       48.8   \n",
              "2          1           2       94.5      171.2      65.5       52.4   \n",
              "3          2           4       99.8      176.6      66.2       54.3   \n",
              "4          2           4       99.4      176.6      66.4       54.3   \n",
              "\n",
              "   curbweight  cylindernumber  enginesize  boreratio  ...  enginetype_ohcv  \\\n",
              "0        2548               4         130       3.47  ...                0   \n",
              "1        2548               4         130       3.47  ...                0   \n",
              "2        2823               6         152       2.68  ...                1   \n",
              "3        2337               4         109       3.19  ...                0   \n",
              "4        2824               5         136       3.19  ...                0   \n",
              "\n",
              "   enginetype_rotor  fuelsystem_1bbl  fuelsystem_2bbl  fuelsystem_4bbl  \\\n",
              "0                 0                0                0                0   \n",
              "1                 0                0                0                0   \n",
              "2                 0                0                0                0   \n",
              "3                 0                0                0                0   \n",
              "4                 0                0                0                0   \n",
              "\n",
              "   fuelsystem_idi  fuelsystem_mfi  fuelsystem_mpfi  fuelsystem_spdi  \\\n",
              "0               0               0                1                0   \n",
              "1               0               0                1                0   \n",
              "2               0               0                1                0   \n",
              "3               0               0                1                0   \n",
              "4               0               0                1                0   \n",
              "\n",
              "   fuelsystem_spfi  \n",
              "0                0  \n",
              "1                0  \n",
              "2                0  \n",
              "3                0  \n",
              "4                0  \n",
              "\n",
              "[5 rows x 46 columns]"
            ],
            "text/html": [
              "\n",
              "  <div id=\"df-f5b1940e-cbb1-4096-b860-e1d411f5ae09\" class=\"colab-df-container\">\n",
              "    <div>\n",
              "<style scoped>\n",
              "    .dataframe tbody tr th:only-of-type {\n",
              "        vertical-align: middle;\n",
              "    }\n",
              "\n",
              "    .dataframe tbody tr th {\n",
              "        vertical-align: top;\n",
              "    }\n",
              "\n",
              "    .dataframe thead th {\n",
              "        text-align: right;\n",
              "    }\n",
              "</style>\n",
              "<table border=\"1\" class=\"dataframe\">\n",
              "  <thead>\n",
              "    <tr style=\"text-align: right;\">\n",
              "      <th></th>\n",
              "      <th>symboling</th>\n",
              "      <th>doornumber</th>\n",
              "      <th>wheelbase</th>\n",
              "      <th>carlength</th>\n",
              "      <th>carwidth</th>\n",
              "      <th>carheight</th>\n",
              "      <th>curbweight</th>\n",
              "      <th>cylindernumber</th>\n",
              "      <th>enginesize</th>\n",
              "      <th>boreratio</th>\n",
              "      <th>...</th>\n",
              "      <th>enginetype_ohcv</th>\n",
              "      <th>enginetype_rotor</th>\n",
              "      <th>fuelsystem_1bbl</th>\n",
              "      <th>fuelsystem_2bbl</th>\n",
              "      <th>fuelsystem_4bbl</th>\n",
              "      <th>fuelsystem_idi</th>\n",
              "      <th>fuelsystem_mfi</th>\n",
              "      <th>fuelsystem_mpfi</th>\n",
              "      <th>fuelsystem_spdi</th>\n",
              "      <th>fuelsystem_spfi</th>\n",
              "    </tr>\n",
              "  </thead>\n",
              "  <tbody>\n",
              "    <tr>\n",
              "      <th>0</th>\n",
              "      <td>3</td>\n",
              "      <td>2</td>\n",
              "      <td>88.6</td>\n",
              "      <td>168.8</td>\n",
              "      <td>64.1</td>\n",
              "      <td>48.8</td>\n",
              "      <td>2548</td>\n",
              "      <td>4</td>\n",
              "      <td>130</td>\n",
              "      <td>3.47</td>\n",
              "      <td>...</td>\n",
              "      <td>0</td>\n",
              "      <td>0</td>\n",
              "      <td>0</td>\n",
              "      <td>0</td>\n",
              "      <td>0</td>\n",
              "      <td>0</td>\n",
              "      <td>0</td>\n",
              "      <td>1</td>\n",
              "      <td>0</td>\n",
              "      <td>0</td>\n",
              "    </tr>\n",
              "    <tr>\n",
              "      <th>1</th>\n",
              "      <td>3</td>\n",
              "      <td>2</td>\n",
              "      <td>88.6</td>\n",
              "      <td>168.8</td>\n",
              "      <td>64.1</td>\n",
              "      <td>48.8</td>\n",
              "      <td>2548</td>\n",
              "      <td>4</td>\n",
              "      <td>130</td>\n",
              "      <td>3.47</td>\n",
              "      <td>...</td>\n",
              "      <td>0</td>\n",
              "      <td>0</td>\n",
              "      <td>0</td>\n",
              "      <td>0</td>\n",
              "      <td>0</td>\n",
              "      <td>0</td>\n",
              "      <td>0</td>\n",
              "      <td>1</td>\n",
              "      <td>0</td>\n",
              "      <td>0</td>\n",
              "    </tr>\n",
              "    <tr>\n",
              "      <th>2</th>\n",
              "      <td>1</td>\n",
              "      <td>2</td>\n",
              "      <td>94.5</td>\n",
              "      <td>171.2</td>\n",
              "      <td>65.5</td>\n",
              "      <td>52.4</td>\n",
              "      <td>2823</td>\n",
              "      <td>6</td>\n",
              "      <td>152</td>\n",
              "      <td>2.68</td>\n",
              "      <td>...</td>\n",
              "      <td>1</td>\n",
              "      <td>0</td>\n",
              "      <td>0</td>\n",
              "      <td>0</td>\n",
              "      <td>0</td>\n",
              "      <td>0</td>\n",
              "      <td>0</td>\n",
              "      <td>1</td>\n",
              "      <td>0</td>\n",
              "      <td>0</td>\n",
              "    </tr>\n",
              "    <tr>\n",
              "      <th>3</th>\n",
              "      <td>2</td>\n",
              "      <td>4</td>\n",
              "      <td>99.8</td>\n",
              "      <td>176.6</td>\n",
              "      <td>66.2</td>\n",
              "      <td>54.3</td>\n",
              "      <td>2337</td>\n",
              "      <td>4</td>\n",
              "      <td>109</td>\n",
              "      <td>3.19</td>\n",
              "      <td>...</td>\n",
              "      <td>0</td>\n",
              "      <td>0</td>\n",
              "      <td>0</td>\n",
              "      <td>0</td>\n",
              "      <td>0</td>\n",
              "      <td>0</td>\n",
              "      <td>0</td>\n",
              "      <td>1</td>\n",
              "      <td>0</td>\n",
              "      <td>0</td>\n",
              "    </tr>\n",
              "    <tr>\n",
              "      <th>4</th>\n",
              "      <td>2</td>\n",
              "      <td>4</td>\n",
              "      <td>99.4</td>\n",
              "      <td>176.6</td>\n",
              "      <td>66.4</td>\n",
              "      <td>54.3</td>\n",
              "      <td>2824</td>\n",
              "      <td>5</td>\n",
              "      <td>136</td>\n",
              "      <td>3.19</td>\n",
              "      <td>...</td>\n",
              "      <td>0</td>\n",
              "      <td>0</td>\n",
              "      <td>0</td>\n",
              "      <td>0</td>\n",
              "      <td>0</td>\n",
              "      <td>0</td>\n",
              "      <td>0</td>\n",
              "      <td>1</td>\n",
              "      <td>0</td>\n",
              "      <td>0</td>\n",
              "    </tr>\n",
              "  </tbody>\n",
              "</table>\n",
              "<p>5 rows × 46 columns</p>\n",
              "</div>\n",
              "    <div class=\"colab-df-buttons\">\n",
              "\n",
              "  <div class=\"colab-df-container\">\n",
              "    <button class=\"colab-df-convert\" onclick=\"convertToInteractive('df-f5b1940e-cbb1-4096-b860-e1d411f5ae09')\"\n",
              "            title=\"Convert this dataframe to an interactive table.\"\n",
              "            style=\"display:none;\">\n",
              "\n",
              "  <svg xmlns=\"http://www.w3.org/2000/svg\" height=\"24px\" viewBox=\"0 -960 960 960\">\n",
              "    <path d=\"M120-120v-720h720v720H120Zm60-500h600v-160H180v160Zm220 220h160v-160H400v160Zm0 220h160v-160H400v160ZM180-400h160v-160H180v160Zm440 0h160v-160H620v160ZM180-180h160v-160H180v160Zm440 0h160v-160H620v160Z\"/>\n",
              "  </svg>\n",
              "    </button>\n",
              "\n",
              "  <style>\n",
              "    .colab-df-container {\n",
              "      display:flex;\n",
              "      gap: 12px;\n",
              "    }\n",
              "\n",
              "    .colab-df-convert {\n",
              "      background-color: #E8F0FE;\n",
              "      border: none;\n",
              "      border-radius: 50%;\n",
              "      cursor: pointer;\n",
              "      display: none;\n",
              "      fill: #1967D2;\n",
              "      height: 32px;\n",
              "      padding: 0 0 0 0;\n",
              "      width: 32px;\n",
              "    }\n",
              "\n",
              "    .colab-df-convert:hover {\n",
              "      background-color: #E2EBFA;\n",
              "      box-shadow: 0px 1px 2px rgba(60, 64, 67, 0.3), 0px 1px 3px 1px rgba(60, 64, 67, 0.15);\n",
              "      fill: #174EA6;\n",
              "    }\n",
              "\n",
              "    .colab-df-buttons div {\n",
              "      margin-bottom: 4px;\n",
              "    }\n",
              "\n",
              "    [theme=dark] .colab-df-convert {\n",
              "      background-color: #3B4455;\n",
              "      fill: #D2E3FC;\n",
              "    }\n",
              "\n",
              "    [theme=dark] .colab-df-convert:hover {\n",
              "      background-color: #434B5C;\n",
              "      box-shadow: 0px 1px 3px 1px rgba(0, 0, 0, 0.15);\n",
              "      filter: drop-shadow(0px 1px 2px rgba(0, 0, 0, 0.3));\n",
              "      fill: #FFFFFF;\n",
              "    }\n",
              "  </style>\n",
              "\n",
              "    <script>\n",
              "      const buttonEl =\n",
              "        document.querySelector('#df-f5b1940e-cbb1-4096-b860-e1d411f5ae09 button.colab-df-convert');\n",
              "      buttonEl.style.display =\n",
              "        google.colab.kernel.accessAllowed ? 'block' : 'none';\n",
              "\n",
              "      async function convertToInteractive(key) {\n",
              "        const element = document.querySelector('#df-f5b1940e-cbb1-4096-b860-e1d411f5ae09');\n",
              "        const dataTable =\n",
              "          await google.colab.kernel.invokeFunction('convertToInteractive',\n",
              "                                                    [key], {});\n",
              "        if (!dataTable) return;\n",
              "\n",
              "        const docLinkHtml = 'Like what you see? Visit the ' +\n",
              "          '<a target=\"_blank\" href=https://colab.research.google.com/notebooks/data_table.ipynb>data table notebook</a>'\n",
              "          + ' to learn more about interactive tables.';\n",
              "        element.innerHTML = '';\n",
              "        dataTable['output_type'] = 'display_data';\n",
              "        await google.colab.output.renderOutput(dataTable, element);\n",
              "        const docLink = document.createElement('div');\n",
              "        docLink.innerHTML = docLinkHtml;\n",
              "        element.appendChild(docLink);\n",
              "      }\n",
              "    </script>\n",
              "  </div>\n",
              "\n",
              "\n",
              "<div id=\"df-75d95dfe-4455-496d-bcf3-f59cf773a4c4\">\n",
              "  <button class=\"colab-df-quickchart\" onclick=\"quickchart('df-75d95dfe-4455-496d-bcf3-f59cf773a4c4')\"\n",
              "            title=\"Suggest charts\"\n",
              "            style=\"display:none;\">\n",
              "\n",
              "<svg xmlns=\"http://www.w3.org/2000/svg\" height=\"24px\"viewBox=\"0 0 24 24\"\n",
              "     width=\"24px\">\n",
              "    <g>\n",
              "        <path d=\"M19 3H5c-1.1 0-2 .9-2 2v14c0 1.1.9 2 2 2h14c1.1 0 2-.9 2-2V5c0-1.1-.9-2-2-2zM9 17H7v-7h2v7zm4 0h-2V7h2v10zm4 0h-2v-4h2v4z\"/>\n",
              "    </g>\n",
              "</svg>\n",
              "  </button>\n",
              "\n",
              "<style>\n",
              "  .colab-df-quickchart {\n",
              "      --bg-color: #E8F0FE;\n",
              "      --fill-color: #1967D2;\n",
              "      --hover-bg-color: #E2EBFA;\n",
              "      --hover-fill-color: #174EA6;\n",
              "      --disabled-fill-color: #AAA;\n",
              "      --disabled-bg-color: #DDD;\n",
              "  }\n",
              "\n",
              "  [theme=dark] .colab-df-quickchart {\n",
              "      --bg-color: #3B4455;\n",
              "      --fill-color: #D2E3FC;\n",
              "      --hover-bg-color: #434B5C;\n",
              "      --hover-fill-color: #FFFFFF;\n",
              "      --disabled-bg-color: #3B4455;\n",
              "      --disabled-fill-color: #666;\n",
              "  }\n",
              "\n",
              "  .colab-df-quickchart {\n",
              "    background-color: var(--bg-color);\n",
              "    border: none;\n",
              "    border-radius: 50%;\n",
              "    cursor: pointer;\n",
              "    display: none;\n",
              "    fill: var(--fill-color);\n",
              "    height: 32px;\n",
              "    padding: 0;\n",
              "    width: 32px;\n",
              "  }\n",
              "\n",
              "  .colab-df-quickchart:hover {\n",
              "    background-color: var(--hover-bg-color);\n",
              "    box-shadow: 0 1px 2px rgba(60, 64, 67, 0.3), 0 1px 3px 1px rgba(60, 64, 67, 0.15);\n",
              "    fill: var(--button-hover-fill-color);\n",
              "  }\n",
              "\n",
              "  .colab-df-quickchart-complete:disabled,\n",
              "  .colab-df-quickchart-complete:disabled:hover {\n",
              "    background-color: var(--disabled-bg-color);\n",
              "    fill: var(--disabled-fill-color);\n",
              "    box-shadow: none;\n",
              "  }\n",
              "\n",
              "  .colab-df-spinner {\n",
              "    border: 2px solid var(--fill-color);\n",
              "    border-color: transparent;\n",
              "    border-bottom-color: var(--fill-color);\n",
              "    animation:\n",
              "      spin 1s steps(1) infinite;\n",
              "  }\n",
              "\n",
              "  @keyframes spin {\n",
              "    0% {\n",
              "      border-color: transparent;\n",
              "      border-bottom-color: var(--fill-color);\n",
              "      border-left-color: var(--fill-color);\n",
              "    }\n",
              "    20% {\n",
              "      border-color: transparent;\n",
              "      border-left-color: var(--fill-color);\n",
              "      border-top-color: var(--fill-color);\n",
              "    }\n",
              "    30% {\n",
              "      border-color: transparent;\n",
              "      border-left-color: var(--fill-color);\n",
              "      border-top-color: var(--fill-color);\n",
              "      border-right-color: var(--fill-color);\n",
              "    }\n",
              "    40% {\n",
              "      border-color: transparent;\n",
              "      border-right-color: var(--fill-color);\n",
              "      border-top-color: var(--fill-color);\n",
              "    }\n",
              "    60% {\n",
              "      border-color: transparent;\n",
              "      border-right-color: var(--fill-color);\n",
              "    }\n",
              "    80% {\n",
              "      border-color: transparent;\n",
              "      border-right-color: var(--fill-color);\n",
              "      border-bottom-color: var(--fill-color);\n",
              "    }\n",
              "    90% {\n",
              "      border-color: transparent;\n",
              "      border-bottom-color: var(--fill-color);\n",
              "    }\n",
              "  }\n",
              "</style>\n",
              "\n",
              "  <script>\n",
              "    async function quickchart(key) {\n",
              "      const quickchartButtonEl =\n",
              "        document.querySelector('#' + key + ' button');\n",
              "      quickchartButtonEl.disabled = true;  // To prevent multiple clicks.\n",
              "      quickchartButtonEl.classList.add('colab-df-spinner');\n",
              "      try {\n",
              "        const charts = await google.colab.kernel.invokeFunction(\n",
              "            'suggestCharts', [key], {});\n",
              "      } catch (error) {\n",
              "        console.error('Error during call to suggestCharts:', error);\n",
              "      }\n",
              "      quickchartButtonEl.classList.remove('colab-df-spinner');\n",
              "      quickchartButtonEl.classList.add('colab-df-quickchart-complete');\n",
              "    }\n",
              "    (() => {\n",
              "      let quickchartButtonEl =\n",
              "        document.querySelector('#df-75d95dfe-4455-496d-bcf3-f59cf773a4c4 button');\n",
              "      quickchartButtonEl.style.display =\n",
              "        google.colab.kernel.accessAllowed ? 'block' : 'none';\n",
              "    })();\n",
              "  </script>\n",
              "</div>\n",
              "\n",
              "    </div>\n",
              "  </div>\n"
            ],
            "application/vnd.google.colaboratory.intrinsic+json": {
              "type": "dataframe",
              "variable_name": "data"
            }
          },
          "metadata": {},
          "execution_count": 66
        }
      ]
    },
    {
      "cell_type": "code",
      "source": [
        "target = \"price\"\n",
        "dependent = data.drop(target,axis=1)"
      ],
      "metadata": {
        "execution": {
          "iopub.status.busy": "2023-04-05T04:28:52.726503Z",
          "iopub.execute_input": "2023-04-05T04:28:52.726954Z",
          "iopub.status.idle": "2023-04-05T04:28:52.736320Z",
          "shell.execute_reply.started": "2023-04-05T04:28:52.726915Z",
          "shell.execute_reply": "2023-04-05T04:28:52.734799Z"
        },
        "trusted": true,
        "id": "Sf1fIpXbsI75"
      },
      "execution_count": 67,
      "outputs": []
    },
    {
      "cell_type": "code",
      "source": [
        "from sklearn.metrics import mean_squared_error, r2_score, adjusted_rand_score, max_error, mean_absolute_error\n",
        "\n",
        "def regression_report(ytrue, ypred):\n",
        "    print(\"\\n\\n\")\n",
        "\n",
        "    print(\"\\tRegression Report\")\n",
        "    print(\"_\"*30)\n",
        "    print(f\"r2_score             :  {r2_score(ytrue, ypred)}\")\n",
        "    print(f\"mean_squared_error   :  {mean_squared_error(ytrue, ypred)}\")\n",
        "    print(f\"adjusted_rand_score  :  {adjusted_rand_score(ytrue, ypred)}\")\n",
        "    print(f\"max_error            :  {max_error(ytrue, ypred)}\")\n",
        "    print(f\"mean_absolute_error  :  {mean_absolute_error(ytrue, ypred)}\")"
      ],
      "metadata": {
        "execution": {
          "iopub.status.busy": "2023-04-05T08:57:27.845786Z",
          "iopub.execute_input": "2023-04-05T08:57:27.846899Z",
          "iopub.status.idle": "2023-04-05T08:57:29.032128Z",
          "shell.execute_reply.started": "2023-04-05T08:57:27.846823Z",
          "shell.execute_reply": "2023-04-05T08:57:29.030969Z"
        },
        "trusted": true,
        "id": "CiaolyLMsI76"
      },
      "execution_count": 73,
      "outputs": []
    },
    {
      "cell_type": "code",
      "source": [
        "from sklearn.model_selection import train_test_split"
      ],
      "metadata": {
        "execution": {
          "iopub.status.busy": "2023-04-05T05:47:19.674400Z",
          "iopub.execute_input": "2023-04-05T05:47:19.674897Z",
          "iopub.status.idle": "2023-04-05T05:47:19.681557Z",
          "shell.execute_reply.started": "2023-04-05T05:47:19.674859Z",
          "shell.execute_reply": "2023-04-05T05:47:19.679913Z"
        },
        "trusted": true,
        "id": "c7lQh1PpsI76"
      },
      "execution_count": null,
      "outputs": []
    },
    {
      "cell_type": "code",
      "source": [
        "X = dependent\n",
        "Y = data[target]"
      ],
      "metadata": {
        "execution": {
          "iopub.status.busy": "2023-04-05T05:47:19.972262Z",
          "iopub.execute_input": "2023-04-05T05:47:19.973570Z",
          "iopub.status.idle": "2023-04-05T05:47:19.980176Z",
          "shell.execute_reply.started": "2023-04-05T05:47:19.973527Z",
          "shell.execute_reply": "2023-04-05T05:47:19.979122Z"
        },
        "trusted": true,
        "id": "gj1k00GksI76"
      },
      "execution_count": 74,
      "outputs": []
    },
    {
      "cell_type": "code",
      "source": [
        "from sklearn.model_selection import train_test_split\n",
        "xtrain, xtest, ytrain, ytest = train_test_split(X, Y, train_size = .80, random_state = 33)"
      ],
      "metadata": {
        "execution": {
          "iopub.status.busy": "2023-04-05T04:30:40.124955Z",
          "iopub.execute_input": "2023-04-05T04:30:40.125833Z",
          "iopub.status.idle": "2023-04-05T04:30:40.135179Z",
          "shell.execute_reply.started": "2023-04-05T04:30:40.125787Z",
          "shell.execute_reply": "2023-04-05T04:30:40.133268Z"
        },
        "trusted": true,
        "id": "ep1CBsltsI76"
      },
      "execution_count": 76,
      "outputs": []
    },
    {
      "cell_type": "code",
      "source": [
        "xtrain.shape, xtest.shape, ytrain.shape, ytest.shape"
      ],
      "metadata": {
        "execution": {
          "iopub.status.busy": "2023-04-05T04:30:40.945985Z",
          "iopub.execute_input": "2023-04-05T04:30:40.947177Z",
          "iopub.status.idle": "2023-04-05T04:30:40.956688Z",
          "shell.execute_reply.started": "2023-04-05T04:30:40.947124Z",
          "shell.execute_reply": "2023-04-05T04:30:40.954969Z"
        },
        "trusted": true,
        "colab": {
          "base_uri": "https://localhost:8080/"
        },
        "id": "kO_gWGfYsI76",
        "outputId": "8d5f094a-7517-4044-9998-370519c7e35a"
      },
      "execution_count": 77,
      "outputs": [
        {
          "output_type": "execute_result",
          "data": {
            "text/plain": [
              "((164, 45), (41, 45), (164,), (41,))"
            ]
          },
          "metadata": {},
          "execution_count": 77
        }
      ]
    },
    {
      "cell_type": "code",
      "source": [
        "from sklearn.linear_model import LinearRegression\n",
        "\n",
        "lr = LinearRegression()\n",
        "lr.fit(xtrain, ytrain)\n",
        "ypred = lr.predict(xtest)\n",
        "\n",
        "print(f\"Training Data : {lr.score(xtrain, ytrain)}\")\n",
        "print(f\"Testing Data : {lr.score(xtest, ytest)}\")\n",
        "\n",
        "lrs = (lr.score(xtrain, ytrain),\n",
        "       lr.score(xtest, ytest) )\n",
        "\n",
        "regression_report(ytest,ypred)"
      ],
      "metadata": {
        "execution": {
          "iopub.status.busy": "2023-04-05T05:48:39.114203Z",
          "iopub.execute_input": "2023-04-05T05:48:39.114643Z",
          "iopub.status.idle": "2023-04-05T05:48:39.141990Z",
          "shell.execute_reply.started": "2023-04-05T05:48:39.114607Z",
          "shell.execute_reply": "2023-04-05T05:48:39.140665Z"
        },
        "trusted": true,
        "colab": {
          "base_uri": "https://localhost:8080/"
        },
        "id": "pEFP0H46sI76",
        "outputId": "c27facb5-c2c7-4f4f-8af8-6851fc8fc21e"
      },
      "execution_count": 78,
      "outputs": [
        {
          "output_type": "stream",
          "name": "stdout",
          "text": [
            "Training Data : 0.9183588324240675\n",
            "Testing Data : 0.909545764224026\n",
            "\n",
            "\n",
            "\n",
            "\tRegression Report\n",
            "______________________________\n",
            "r2_score             :  0.909545764224026\n",
            "mean_squared_error   :  7168164.44979612\n",
            "adjusted_rand_score  :  1.0\n",
            "max_error            :  7222.528035953408\n",
            "mean_absolute_error  :  2010.18960273457\n"
          ]
        }
      ]
    },
    {
      "cell_type": "code",
      "source": [
        "from sklearn.tree import DecisionTreeRegressor\n",
        "\n",
        "dt = DecisionTreeRegressor()\n",
        "dt.fit(xtrain, ytrain)\n",
        "ypred = dt.predict(xtest)\n",
        "\n",
        "print(f\"Training Data : {dt.score(xtrain, ytrain)}\")\n",
        "print(f\"Testing Data : {dt.score(xtest, ytest)}\")\n",
        "\n",
        "dts = (dt.score(xtrain, ytrain),\n",
        "       dt.score(xtest, ytest) )\n",
        "\n",
        "regression_report(ytest,ypred)"
      ],
      "metadata": {
        "execution": {
          "iopub.status.busy": "2023-04-05T05:48:44.203843Z",
          "iopub.execute_input": "2023-04-05T05:48:44.204462Z",
          "iopub.status.idle": "2023-04-05T05:48:44.235297Z",
          "shell.execute_reply.started": "2023-04-05T05:48:44.204397Z",
          "shell.execute_reply": "2023-04-05T05:48:44.233999Z"
        },
        "trusted": true,
        "colab": {
          "base_uri": "https://localhost:8080/"
        },
        "id": "iQBmAue7sI76",
        "outputId": "7002d454-f65b-4ebb-e50c-fa4ae14d7b86"
      },
      "execution_count": 79,
      "outputs": [
        {
          "output_type": "stream",
          "name": "stdout",
          "text": [
            "Training Data : 0.9989507023872043\n",
            "Testing Data : 0.8425176758184181\n",
            "\n",
            "\n",
            "\n",
            "\tRegression Report\n",
            "______________________________\n",
            "r2_score             :  0.8425176758184181\n",
            "mean_squared_error   :  12479893.152439024\n",
            "adjusted_rand_score  :  0.0\n",
            "max_error            :  12327.0\n",
            "mean_absolute_error  :  2391.5243902439024\n"
          ]
        }
      ]
    },
    {
      "cell_type": "code",
      "source": [
        "from sklearn.ensemble import RandomForestRegressor\n",
        "\n",
        "rt = RandomForestRegressor()\n",
        "rt.fit(xtrain, ytrain)\n",
        "ypred = rt.predict(xtest)\n",
        "\n",
        "print(f\"Training Data : {rt.score(xtrain, ytrain)}\")\n",
        "print(f\"Testing Data : {rt.score(xtest, ytest)}\")\n",
        "\n",
        "rts = (rt.score(xtrain, ytrain),\n",
        "       rt.score(xtest, ytest) )\n",
        "\n",
        "regression_report(ytest,ypred)"
      ],
      "metadata": {
        "execution": {
          "iopub.status.busy": "2023-04-05T05:48:55.774256Z",
          "iopub.execute_input": "2023-04-05T05:48:55.775116Z",
          "iopub.status.idle": "2023-04-05T05:48:56.048273Z",
          "shell.execute_reply.started": "2023-04-05T05:48:55.775075Z",
          "shell.execute_reply": "2023-04-05T05:48:56.047186Z"
        },
        "trusted": true,
        "colab": {
          "base_uri": "https://localhost:8080/"
        },
        "id": "Zb-kMNw3sI77",
        "outputId": "9b10b7d2-b57c-4c36-d1ba-8730a3a5068c"
      },
      "execution_count": 80,
      "outputs": [
        {
          "output_type": "stream",
          "name": "stdout",
          "text": [
            "Training Data : 0.9894384184373065\n",
            "Testing Data : 0.8991972318770676\n",
            "\n",
            "\n",
            "\n",
            "\tRegression Report\n",
            "______________________________\n",
            "r2_score             :  0.8991972318770676\n",
            "mean_squared_error   :  7988247.456862286\n",
            "adjusted_rand_score  :  0.0\n",
            "max_error            :  7224.419999999998\n",
            "mean_absolute_error  :  1922.5598934959348\n"
          ]
        }
      ]
    },
    {
      "cell_type": "code",
      "source": [
        "from sklearn.ensemble import ExtraTreesRegressor\n",
        "\n",
        "et = ExtraTreesRegressor()\n",
        "et.fit(xtrain, ytrain)\n",
        "ypred = et.predict(xtest)\n",
        "\n",
        "print(f\"Training Data : {et.score(xtrain, ytrain)}\")\n",
        "print(f\"Testing Data : {et.score(xtest, ytest)}\")\n",
        "\n",
        "ets = (et.score(xtrain, ytrain),\n",
        "       et.score(xtest, ytest) )\n",
        "\n",
        "regression_report(ytest,ypred)"
      ],
      "metadata": {
        "execution": {
          "iopub.status.busy": "2023-04-05T05:50:43.880082Z",
          "iopub.execute_input": "2023-04-05T05:50:43.880661Z",
          "iopub.status.idle": "2023-04-05T05:50:44.105090Z",
          "shell.execute_reply.started": "2023-04-05T05:50:43.880594Z",
          "shell.execute_reply": "2023-04-05T05:50:44.103571Z"
        },
        "trusted": true,
        "colab": {
          "base_uri": "https://localhost:8080/"
        },
        "id": "-Oad-ZFAsI77",
        "outputId": "73c28a4c-3438-4c5c-93d6-14a88a1491e0"
      },
      "execution_count": 82,
      "outputs": [
        {
          "output_type": "stream",
          "name": "stdout",
          "text": [
            "Training Data : 0.9989507023872043\n",
            "Testing Data : 0.9317957334154554\n",
            "\n",
            "\n",
            "\n",
            "\tRegression Report\n",
            "______________________________\n",
            "r2_score             :  0.9317957334154554\n",
            "mean_squared_error   :  5404936.483755128\n",
            "adjusted_rand_score  :  1.0\n",
            "max_error            :  7198.269999999997\n",
            "mean_absolute_error  :  1581.8344707317078\n"
          ]
        }
      ]
    },
    {
      "cell_type": "code",
      "source": [
        "labels = [\"Linear Regressing\", \"DecisionTREE\", \"RandomForest\", \"ExtraTree\"]\n",
        "training_scores = [lrs[0], dts[0], rts[0], ets[0]]\n",
        "testing_scores = [lrs[1], dts[1], rts[1], ets[1]]"
      ],
      "metadata": {
        "execution": {
          "iopub.status.busy": "2023-04-05T04:55:23.278257Z",
          "iopub.execute_input": "2023-04-05T04:55:23.279566Z",
          "iopub.status.idle": "2023-04-05T04:55:23.286634Z",
          "shell.execute_reply.started": "2023-04-05T04:55:23.279500Z",
          "shell.execute_reply": "2023-04-05T04:55:23.285084Z"
        },
        "trusted": true,
        "id": "iGzknq9JsI77"
      },
      "execution_count": 83,
      "outputs": []
    },
    {
      "cell_type": "code",
      "source": [
        "plt.title(\"Training scores\")\n",
        "plt.xlabel(labels)\n",
        "plt.bar(labels,height =training_scores)\n",
        "for i in range(len(labels)):\n",
        "    plt.text(i,y=training_scores[i], s=np.round(training_scores[i],4), ha=\"center\")\n",
        "\n",
        "plt.show()"
      ],
      "metadata": {
        "execution": {
          "iopub.status.busy": "2023-04-05T05:02:29.805236Z",
          "iopub.execute_input": "2023-04-05T05:02:29.806706Z",
          "iopub.status.idle": "2023-04-05T05:02:30.041192Z",
          "shell.execute_reply.started": "2023-04-05T05:02:29.806651Z",
          "shell.execute_reply": "2023-04-05T05:02:30.039862Z"
        },
        "trusted": true,
        "colab": {
          "base_uri": "https://localhost:8080/",
          "height": 472
        },
        "id": "aTsnnPWJsI77",
        "outputId": "81c1fe76-a1fa-4f60-83f7-b1f6e6e0d860"
      },
      "execution_count": 84,
      "outputs": [
        {
          "output_type": "display_data",
          "data": {
            "text/plain": [
              "<Figure size 640x480 with 1 Axes>"
            ],
            "image/png": "[encoded data removed]"
          },
          "metadata": {}
        }
      ]
    },
    {
      "cell_type": "code",
      "source": [
        "plt.title(\"Testing scores\")\n",
        "plt.xlabel(labels)\n",
        "plt.bar(labels,height =testing_scores)\n",
        "for i in range(len(labels)):\n",
        "    plt.text(i,y=testing_scores[i], s=np.round(testing_scores[i],2), ha=\"center\")\n",
        "\n",
        "plt.show()"
      ],
      "metadata": {
        "execution": {
          "iopub.status.busy": "2023-04-05T05:02:16.645611Z",
          "iopub.execute_input": "2023-04-05T05:02:16.646855Z",
          "iopub.status.idle": "2023-04-05T05:02:16.878386Z",
          "shell.execute_reply.started": "2023-04-05T05:02:16.646807Z",
          "shell.execute_reply": "2023-04-05T05:02:16.876974Z"
        },
        "trusted": true,
        "colab": {
          "base_uri": "https://localhost:8080/",
          "height": 472
        },
        "id": "6tEIUiycsI77",
        "outputId": "94c01570-f411-4b51-b5f8-6a10e8c5926d"
      },
      "execution_count": 85,
      "outputs": [
        {
          "output_type": "display_data",
          "data": {
            "text/plain": [
              "<Figure size 640x480 with 1 Axes>"
            ],
            "image/png": "[encoded data removed]"
          },
          "metadata": {}
        }
      ]
    },
    {
      "cell_type": "code",
      "source": [],
      "metadata": {
        "execution": {
          "iopub.status.busy": "2023-04-05T05:44:23.299512Z",
          "iopub.execute_input": "2023-04-05T05:44:23.299987Z",
          "iopub.status.idle": "2023-04-05T05:44:23.308741Z",
          "shell.execute_reply.started": "2023-04-05T05:44:23.299950Z",
          "shell.execute_reply": "2023-04-05T05:44:23.306785Z"
        },
        "trusted": true,
        "id": "gIuNwD0PsI77"
      },
      "execution_count": null,
      "outputs": []
    },
    {
      "cell_type": "code",
      "source": [],
      "metadata": {
        "id": "jk-x9jkGsI77"
      },
      "execution_count": null,
      "outputs": []
    }
  ]
}